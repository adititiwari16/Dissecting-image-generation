{
 "cells": [
  {
   "cell_type": "code",
   "execution_count": 1,
   "metadata": {},
   "outputs": [
    {
     "name": "stdout",
     "output_type": "stream",
     "text": [
      "Requirement already satisfied: diffusers in /opt/anaconda3/lib/python3.11/site-packages (0.30.3)\n",
      "Requirement already satisfied: transformers in /opt/anaconda3/lib/python3.11/site-packages (4.40.1)\n",
      "Requirement already satisfied: torch in /opt/anaconda3/lib/python3.11/site-packages (2.2.2)\n",
      "Requirement already satisfied: numpy in /opt/anaconda3/lib/python3.11/site-packages (1.26.4)\n",
      "Requirement already satisfied: Pillow in /opt/anaconda3/lib/python3.11/site-packages (10.2.0)\n",
      "Requirement already satisfied: opencv-python in /opt/anaconda3/lib/python3.11/site-packages (4.9.0.80)\n",
      "Requirement already satisfied: importlib-metadata in /opt/anaconda3/lib/python3.11/site-packages (from diffusers) (7.0.1)\n",
      "Requirement already satisfied: filelock in /opt/anaconda3/lib/python3.11/site-packages (from diffusers) (3.13.1)\n",
      "Requirement already satisfied: huggingface-hub>=0.23.2 in /opt/anaconda3/lib/python3.11/site-packages (from diffusers) (0.25.1)\n",
      "Requirement already satisfied: regex!=2019.12.17 in /opt/anaconda3/lib/python3.11/site-packages (from diffusers) (2023.10.3)\n",
      "Requirement already satisfied: requests in /opt/anaconda3/lib/python3.11/site-packages (from diffusers) (2.31.0)\n",
      "Requirement already satisfied: safetensors>=0.3.1 in /opt/anaconda3/lib/python3.11/site-packages (from diffusers) (0.4.3)\n",
      "Requirement already satisfied: packaging>=20.0 in /opt/anaconda3/lib/python3.11/site-packages (from transformers) (23.1)\n",
      "Requirement already satisfied: pyyaml>=5.1 in /opt/anaconda3/lib/python3.11/site-packages (from transformers) (6.0.1)\n",
      "Requirement already satisfied: tokenizers<0.20,>=0.19 in /opt/anaconda3/lib/python3.11/site-packages (from transformers) (0.19.1)\n",
      "Requirement already satisfied: tqdm>=4.27 in /opt/anaconda3/lib/python3.11/site-packages (from transformers) (4.65.0)\n",
      "Requirement already satisfied: typing-extensions>=4.8.0 in /opt/anaconda3/lib/python3.11/site-packages (from torch) (4.9.0)\n",
      "Requirement already satisfied: sympy in /opt/anaconda3/lib/python3.11/site-packages (from torch) (1.12)\n",
      "Requirement already satisfied: networkx in /opt/anaconda3/lib/python3.11/site-packages (from torch) (3.1)\n",
      "Requirement already satisfied: jinja2 in /opt/anaconda3/lib/python3.11/site-packages (from torch) (3.1.3)\n",
      "Requirement already satisfied: fsspec in /opt/anaconda3/lib/python3.11/site-packages (from torch) (2023.10.0)\n",
      "Requirement already satisfied: zipp>=0.5 in /opt/anaconda3/lib/python3.11/site-packages (from importlib-metadata->diffusers) (3.17.0)\n",
      "Requirement already satisfied: MarkupSafe>=2.0 in /opt/anaconda3/lib/python3.11/site-packages (from jinja2->torch) (2.1.3)\n",
      "Requirement already satisfied: charset-normalizer<4,>=2 in /opt/anaconda3/lib/python3.11/site-packages (from requests->diffusers) (2.0.4)\n",
      "Requirement already satisfied: idna<4,>=2.5 in /opt/anaconda3/lib/python3.11/site-packages (from requests->diffusers) (3.4)\n",
      "Requirement already satisfied: urllib3<3,>=1.21.1 in /opt/anaconda3/lib/python3.11/site-packages (from requests->diffusers) (2.0.7)\n",
      "Requirement already satisfied: certifi>=2017.4.17 in /opt/anaconda3/lib/python3.11/site-packages (from requests->diffusers) (2024.2.2)\n",
      "Requirement already satisfied: mpmath>=0.19 in /opt/anaconda3/lib/python3.11/site-packages (from sympy->torch) (1.3.0)\n",
      "Note: you may need to restart the kernel to use updated packages.\n"
     ]
    }
   ],
   "source": [
    "pip install diffusers transformers torch numpy Pillow opencv-python"
   ]
  },
  {
   "cell_type": "code",
   "execution_count": 9,
   "metadata": {},
   "outputs": [
    {
     "name": "stdout",
     "output_type": "stream",
     "text": [
      "Looking in indexes: https://pypi.org/simple, https://download.pytorch.org/whl/torch_stable.html\n",
      "Requirement already satisfied: torch in /opt/anaconda3/lib/python3.11/site-packages (2.2.2)\n",
      "Collecting torchvision\n",
      "  Downloading torchvision-0.19.1-cp311-cp311-macosx_11_0_arm64.whl.metadata (6.0 kB)\n",
      "Collecting torchaudio\n",
      "  Downloading torchaudio-2.4.1-cp311-cp311-macosx_11_0_arm64.whl.metadata (6.4 kB)\n",
      "Requirement already satisfied: filelock in /opt/anaconda3/lib/python3.11/site-packages (from torch) (3.13.1)\n",
      "Requirement already satisfied: typing-extensions>=4.8.0 in /opt/anaconda3/lib/python3.11/site-packages (from torch) (4.9.0)\n",
      "Requirement already satisfied: sympy in /opt/anaconda3/lib/python3.11/site-packages (from torch) (1.12)\n",
      "Requirement already satisfied: networkx in /opt/anaconda3/lib/python3.11/site-packages (from torch) (3.1)\n",
      "Requirement already satisfied: jinja2 in /opt/anaconda3/lib/python3.11/site-packages (from torch) (3.1.3)\n",
      "Requirement already satisfied: fsspec in /opt/anaconda3/lib/python3.11/site-packages (from torch) (2023.10.0)\n",
      "Requirement already satisfied: numpy in /opt/anaconda3/lib/python3.11/site-packages (from torchvision) (1.26.4)\n",
      "Collecting torch\n",
      "  Downloading torch-2.4.1-cp311-none-macosx_11_0_arm64.whl.metadata (26 kB)\n",
      "Requirement already satisfied: pillow!=8.3.*,>=5.3.0 in /opt/anaconda3/lib/python3.11/site-packages (from torchvision) (10.2.0)\n",
      "Requirement already satisfied: MarkupSafe>=2.0 in /opt/anaconda3/lib/python3.11/site-packages (from jinja2->torch) (2.1.3)\n",
      "Requirement already satisfied: mpmath>=0.19 in /opt/anaconda3/lib/python3.11/site-packages (from sympy->torch) (1.3.0)\n",
      "Downloading torchvision-0.19.1-cp311-cp311-macosx_11_0_arm64.whl (1.7 MB)\n",
      "\u001b[2K   \u001b[90m━━━━━━━━━━━━━━━━━━━━━━━━━━━━━━━━━━━━━━━━\u001b[0m \u001b[32m1.7/1.7 MB\u001b[0m \u001b[31m2.2 MB/s\u001b[0m eta \u001b[36m0:00:00\u001b[0ma \u001b[36m0:00:01\u001b[0m\n",
      "\u001b[?25hDownloading torch-2.4.1-cp311-none-macosx_11_0_arm64.whl (62.1 MB)\n",
      "\u001b[2K   \u001b[90m━━━━━━━━━━━━━━━━━━━━━━━━━━━━━━━━━━━━━━━━\u001b[0m \u001b[32m62.1/62.1 MB\u001b[0m \u001b[31m4.6 MB/s\u001b[0m eta \u001b[36m0:00:00\u001b[0m00:01\u001b[0m00:01\u001b[0m\n",
      "\u001b[?25hDownloading torchaudio-2.4.1-cp311-cp311-macosx_11_0_arm64.whl (1.8 MB)\n",
      "\u001b[2K   \u001b[90m━━━━━━━━━━━━━━━━━━━━━━━━━━━━━━━━━━━━━━━━\u001b[0m \u001b[32m1.8/1.8 MB\u001b[0m \u001b[31m5.3 MB/s\u001b[0m eta \u001b[36m0:00:00\u001b[0m00:01\u001b[0m00:01\u001b[0m\n",
      "\u001b[?25hInstalling collected packages: torch, torchvision, torchaudio\n",
      "  Attempting uninstall: torch\n",
      "    Found existing installation: torch 2.2.2\n",
      "    Uninstalling torch-2.2.2:\n",
      "      Successfully uninstalled torch-2.2.2\n",
      "Successfully installed torch-2.4.1 torchaudio-2.4.1 torchvision-0.19.1\n",
      "Note: you may need to restart the kernel to use updated packages.\n"
     ]
    }
   ],
   "source": [
    "pip install torch torchvision torchaudio --extra-index-url https://download.pytorch.org/whl/torch_stable.html"
   ]
  },
  {
   "cell_type": "code",
   "execution_count": 5,
   "metadata": {},
   "outputs": [],
   "source": [
    "from diffusers import StableDiffusionPipeline, ControlNetModel\n",
    "from PIL import Image\n",
    "import numpy as np\n",
    "import torch\n",
    "import time\n",
    "import cv2"
   ]
  },
  {
   "cell_type": "code",
   "execution_count": 3,
   "metadata": {},
   "outputs": [
    {
     "name": "stdout",
     "output_type": "stream",
     "text": [
      "Cloning into 'stable-diffusion'...\n",
      "remote: Enumerating objects: 340, done.\u001b[K\n",
      "remote: Counting objects: 100% (158/158), done.\u001b[K\n",
      "remote: Compressing objects: 100% (66/66), done.\u001b[K\n",
      "remote: Total 340 (delta 109), reused 92 (delta 92), pack-reused 182 (from 1)\u001b[K\n",
      "Receiving objects: 100% (340/340), 42.58 MiB | 2.42 MiB/s, done.\n",
      "Resolving deltas: 100% (131/131), done.\n"
     ]
    }
   ],
   "source": [
    "!git clone https://github.com/CompVis/stable-diffusion"
   ]
  },
  {
   "cell_type": "code",
   "execution_count": 4,
   "metadata": {},
   "outputs": [
    {
     "name": "stdout",
     "output_type": "stream",
     "text": [
      "Cloning into 'ControlNet'...\n",
      "remote: Enumerating objects: 1356, done.\u001b[K\n",
      "remote: Total 1356 (delta 0), reused 0 (delta 0), pack-reused 1356 (from 1)\u001b[K\n",
      "Receiving objects: 100% (1356/1356), 122.40 MiB | 3.16 MiB/s, done.\n",
      "Resolving deltas: 100% (599/599), done.\n"
     ]
    }
   ],
   "source": [
    "!git clone https://github.com/lllyasviel/ControlNet"
   ]
  },
  {
   "cell_type": "markdown",
   "metadata": {},
   "source": [
    "### Checkpoint Setup\n",
    "#### Download the checkpoint files for Stable Diffusion and ControlNet from Hugging Face, which are required to generate images based on text prompts and depth maps."
   ]
  },
  {
   "cell_type": "code",
   "execution_count": 2,
   "metadata": {},
   "outputs": [],
   "source": [
    "from diffusers import StableDiffusionPipeline, ControlNetModel"
   ]
  },
  {
   "cell_type": "code",
   "execution_count": null,
   "metadata": {},
   "outputs": [],
   "source": []
  },
  {
   "cell_type": "code",
   "execution_count": 3,
   "metadata": {},
   "outputs": [
    {
     "name": "stderr",
     "output_type": "stream",
     "text": [
      "Cannot initialize model with low cpu memory usage because `accelerate` was not found in the environment. Defaulting to `low_cpu_mem_usage=False`. It is strongly recommended to install `accelerate` for faster and less memory-intense model loading. You can do so with: \n",
      "```\n",
      "pip install accelerate\n",
      "```\n",
      ".\n"
     ]
    },
    {
     "data": {
      "application/vnd.jupyter.widget-view+json": {
       "model_id": "d8bf1ee4b7be4f1082ddb8960abcbb73",
       "version_major": 2,
       "version_minor": 0
      },
      "text/plain": [
       "Fetching 16 files:   0%|          | 0/16 [00:00<?, ?it/s]"
      ]
     },
     "metadata": {},
     "output_type": "display_data"
    },
    {
     "data": {
      "application/vnd.jupyter.widget-view+json": {
       "model_id": "0cf09e009288426db2c3bc71b6a456fc",
       "version_major": 2,
       "version_minor": 0
      },
      "text/plain": [
       "diffusion_pytorch_model.safetensors:   5%|4         | 168M/3.44G [00:00<?, ?B/s]"
      ]
     },
     "metadata": {},
     "output_type": "display_data"
    },
    {
     "data": {
      "application/vnd.jupyter.widget-view+json": {
       "model_id": "458bfb7b99a5477a8dbd324d381fd909",
       "version_major": 2,
       "version_minor": 0
      },
      "text/plain": [
       "model.safetensors:  49%|####8     | 241M/492M [00:00<?, ?B/s]"
      ]
     },
     "metadata": {},
     "output_type": "display_data"
    },
    {
     "data": {
      "application/vnd.jupyter.widget-view+json": {
       "model_id": "de67bdfba44640a3a1384e1263c37fd4",
       "version_major": 2,
       "version_minor": 0
      },
      "text/plain": [
       "model.safetensors:  22%|##2       | 273M/1.22G [00:00<?, ?B/s]"
      ]
     },
     "metadata": {},
     "output_type": "display_data"
    },
    {
     "data": {
      "application/vnd.jupyter.widget-view+json": {
       "model_id": "1067480a45ee485d87384c91fe6a2e41",
       "version_major": 2,
       "version_minor": 0
      },
      "text/plain": [
       "diffusion_pytorch_model.safetensors:  53%|#####3    | 178M/335M [00:00<?, ?B/s]"
      ]
     },
     "metadata": {},
     "output_type": "display_data"
    },
    {
     "name": "stderr",
     "output_type": "stream",
     "text": [
      "Error while downloading from https://cdn-lfs.hf.co/repos/f1/01/f101b0eb0d67831c57ddb250fc25919349d56edd2bdd8e876a9ac08bd85c0803/145a07e0f05ec5bbe6e2e9faf608bdb311caf708895cac8c8ed713c59864e1e8?response-content-disposition=inline%3B+filename*%3DUTF-8%27%27diffusion_pytorch_model.safetensors%3B+filename%3D%22diffusion_pytorch_model.safetensors%22%3B&Expires=1728070066&Policy=eyJTdGF0ZW1lbnQiOlt7IkNvbmRpdGlvbiI6eyJEYXRlTGVzc1RoYW4iOnsiQVdTOkVwb2NoVGltZSI6MTcyODA3MDA2Nn19LCJSZXNvdXJjZSI6Imh0dHBzOi8vY2RuLWxmcy5oZi5jby9yZXBvcy9mMS8wMS9mMTAxYjBlYjBkNjc4MzFjNTdkZGIyNTBmYzI1OTE5MzQ5ZDU2ZWRkMmJkZDhlODc2YTlhYzA4YmQ4NWMwODAzLzE0NWEwN2UwZjA1ZWM1YmJlNmUyZTlmYWY2MDhiZGIzMTFjYWY3MDg4OTVjYWM4YzhlZDcxM2M1OTg2NGUxZTg%7EcmVzcG9uc2UtY29udGVudC1kaXNwb3NpdGlvbj0qIn1dfQ__&Signature=VrR0DVxCy1XAkSDZl9b87EtcC280YqqqJnds5%7ETbRuOz5OZQxpPKkAt3sPnbvXerKSMO83pu7q4lza%7Emtr0GubRB8ChyV4H0U7UFHjYioAIFelmfqS%7Ew-0QYKHMioB6YOFheZ-GlrL3yqO2Edapv7tr16JqiMslf-zRKoV17ML2AU63DENZ9UXBQU1bY4dwC7Cap5tcbPcmjVnM%7EmEhJ8ufviBLkS6gik1gS9rdXIX7%7E8FicXNueo6R9QDAM0bwZf3yODjOlKqkkmoHNj0sOfkSvUsNufFExwFL4a3Gdkg9ier6TnyTpsK6LWlw1mAJluzWU73NyzQnVL17sgiSVqQ__&Key-Pair-Id=K3RPWS32NSSJCE: HTTPSConnectionPool(host='cdn-lfs.hf.co', port=443): Read timed out.\n",
      "Trying to resume download...\n"
     ]
    },
    {
     "data": {
      "application/vnd.jupyter.widget-view+json": {
       "model_id": "22dc18c148d7400fa3025757ffaeade6",
       "version_major": 2,
       "version_minor": 0
      },
      "text/plain": [
       "diffusion_pytorch_model.safetensors:   6%|6         | 210M/3.44G [00:00<?, ?B/s]"
      ]
     },
     "metadata": {},
     "output_type": "display_data"
    },
    {
     "name": "stderr",
     "output_type": "stream",
     "text": [
      "Error while downloading from https://cdn-lfs.hf.co/repos/f1/01/f101b0eb0d67831c57ddb250fc25919349d56edd2bdd8e876a9ac08bd85c0803/145a07e0f05ec5bbe6e2e9faf608bdb311caf708895cac8c8ed713c59864e1e8?response-content-disposition=inline%3B+filename*%3DUTF-8%27%27diffusion_pytorch_model.safetensors%3B+filename%3D%22diffusion_pytorch_model.safetensors%22%3B&Expires=1728070066&Policy=eyJTdGF0ZW1lbnQiOlt7IkNvbmRpdGlvbiI6eyJEYXRlTGVzc1RoYW4iOnsiQVdTOkVwb2NoVGltZSI6MTcyODA3MDA2Nn19LCJSZXNvdXJjZSI6Imh0dHBzOi8vY2RuLWxmcy5oZi5jby9yZXBvcy9mMS8wMS9mMTAxYjBlYjBkNjc4MzFjNTdkZGIyNTBmYzI1OTE5MzQ5ZDU2ZWRkMmJkZDhlODc2YTlhYzA4YmQ4NWMwODAzLzE0NWEwN2UwZjA1ZWM1YmJlNmUyZTlmYWY2MDhiZGIzMTFjYWY3MDg4OTVjYWM4YzhlZDcxM2M1OTg2NGUxZTg%7EcmVzcG9uc2UtY29udGVudC1kaXNwb3NpdGlvbj0qIn1dfQ__&Signature=VrR0DVxCy1XAkSDZl9b87EtcC280YqqqJnds5%7ETbRuOz5OZQxpPKkAt3sPnbvXerKSMO83pu7q4lza%7Emtr0GubRB8ChyV4H0U7UFHjYioAIFelmfqS%7Ew-0QYKHMioB6YOFheZ-GlrL3yqO2Edapv7tr16JqiMslf-zRKoV17ML2AU63DENZ9UXBQU1bY4dwC7Cap5tcbPcmjVnM%7EmEhJ8ufviBLkS6gik1gS9rdXIX7%7E8FicXNueo6R9QDAM0bwZf3yODjOlKqkkmoHNj0sOfkSvUsNufFExwFL4a3Gdkg9ier6TnyTpsK6LWlw1mAJluzWU73NyzQnVL17sgiSVqQ__&Key-Pair-Id=K3RPWS32NSSJCE: HTTPSConnectionPool(host='cdn-lfs.hf.co', port=443): Read timed out.\n",
      "Trying to resume download...\n",
      "Error while downloading from https://cdn-lfs.hf.co/repos/f1/01/f101b0eb0d67831c57ddb250fc25919349d56edd2bdd8e876a9ac08bd85c0803/a2b5134f4dbc140d9c11f11cba3233099e00af40f262f136c691fb7d38d2194c?response-content-disposition=inline%3B+filename*%3DUTF-8%27%27diffusion_pytorch_model.safetensors%3B+filename%3D%22diffusion_pytorch_model.safetensors%22%3B&Expires=1728069946&Policy=eyJTdGF0ZW1lbnQiOlt7IkNvbmRpdGlvbiI6eyJEYXRlTGVzc1RoYW4iOnsiQVdTOkVwb2NoVGltZSI6MTcyODA2OTk0Nn19LCJSZXNvdXJjZSI6Imh0dHBzOi8vY2RuLWxmcy5oZi5jby9yZXBvcy9mMS8wMS9mMTAxYjBlYjBkNjc4MzFjNTdkZGIyNTBmYzI1OTE5MzQ5ZDU2ZWRkMmJkZDhlODc2YTlhYzA4YmQ4NWMwODAzL2EyYjUxMzRmNGRiYzE0MGQ5YzExZjExY2JhMzIzMzA5OWUwMGFmNDBmMjYyZjEzNmM2OTFmYjdkMzhkMjE5NGM%7EcmVzcG9uc2UtY29udGVudC1kaXNwb3NpdGlvbj0qIn1dfQ__&Signature=rpRxgPdXmvH1S8WmkS2KTs5eDyPsfrS95NUVeaQcPnQAWf-nPbzSMn%7Ehfl6VmATz2QWMOX7Chv8lfHK3vNxDwMT9VCxYP7v0vM-0hKTHPf13dry7EpxjRgbB0qrNHsQp14tYBxh30WdCvUXrt23QdIiaoXraqGMJw98iWK0BjPvyHyWOtFOX0z27wkgCh9OLsbZd%7EfDg8XKwT64YjVkfUiaDq-5QIh-fhUc7gaIlBUmoC0pbhyYHZpzb%7EFtjq-ggasW7bOfnLDYUx8EPrjEgJ-B4qvjk7MFmMB%7EVHNwSx-iW9O6Hd61Xouh%7ENCpdyWnG2sFgBlRQLXIt%7EhVHIlclOw__&Key-Pair-Id=K3RPWS32NSSJCE: HTTPSConnectionPool(host='cdn-lfs.hf.co', port=443): Read timed out.\n",
      "Trying to resume download...\n",
      "Error while downloading from https://cdn-lfs.hf.co/repos/f1/01/f101b0eb0d67831c57ddb250fc25919349d56edd2bdd8e876a9ac08bd85c0803/7b3a12df205cb3c74dd4eae4354d93f606ae6b3bc29d5d06fd97921cb9ad8a81?response-content-disposition=inline%3B+filename*%3DUTF-8%27%27model.safetensors%3B+filename%3D%22model.safetensors%22%3B&Expires=1728070066&Policy=eyJTdGF0ZW1lbnQiOlt7IkNvbmRpdGlvbiI6eyJEYXRlTGVzc1RoYW4iOnsiQVdTOkVwb2NoVGltZSI6MTcyODA3MDA2Nn19LCJSZXNvdXJjZSI6Imh0dHBzOi8vY2RuLWxmcy5oZi5jby9yZXBvcy9mMS8wMS9mMTAxYjBlYjBkNjc4MzFjNTdkZGIyNTBmYzI1OTE5MzQ5ZDU2ZWRkMmJkZDhlODc2YTlhYzA4YmQ4NWMwODAzLzdiM2ExMmRmMjA1Y2IzYzc0ZGQ0ZWFlNDM1NGQ5M2Y2MDZhZTZiM2JjMjlkNWQwNmZkOTc5MjFjYjlhZDhhODE%7EcmVzcG9uc2UtY29udGVudC1kaXNwb3NpdGlvbj0qIn1dfQ__&Signature=E9lHWjXZ-NA0MIOgTGrQtZ3LXvM60Jqj69prqu%7E4WJAl1RCa3AxaqDY0d2edqKRZG-SMgs-TeeCQ%7Eq9-EPGJ6%7EfEUrveWUIzZBwoq6G4DwRYyWByVOKye3yZAi3ffSpAxN7uxJtqfZCn9BBOqo5ymYq6mMOpu70VaH1qSLPiPmDiBUg3ugeidlPww6-LbkEz6zKxRTW69IcnXt6i4TPfkL3KPpOxlofd9TAnCtr3CH8JLTNYFvgp8c7pACDfQuRctKbArfJThs3EC63r4HIeMm1WVvADcLYSqtI%7EAmsEuGMLl7Btn1WYT%7EADKmhbFGa64T855VO56mOhQdw8O%7ElMxg__&Key-Pair-Id=K3RPWS32NSSJCE: HTTPSConnectionPool(host='cdn-lfs.hf.co', port=443): Read timed out.\n",
      "Trying to resume download...\n",
      "Error while downloading from https://cdn-lfs.hf.co/repos/f1/01/f101b0eb0d67831c57ddb250fc25919349d56edd2bdd8e876a9ac08bd85c0803/9d6a233ff6fd5ccb9f76fd99618d73369c52dd3d8222376384d0e601911089e8?response-content-disposition=inline%3B+filename*%3DUTF-8%27%27model.safetensors%3B+filename%3D%22model.safetensors%22%3B&Expires=1728069774&Policy=eyJTdGF0ZW1lbnQiOlt7IkNvbmRpdGlvbiI6eyJEYXRlTGVzc1RoYW4iOnsiQVdTOkVwb2NoVGltZSI6MTcyODA2OTc3NH19LCJSZXNvdXJjZSI6Imh0dHBzOi8vY2RuLWxmcy5oZi5jby9yZXBvcy9mMS8wMS9mMTAxYjBlYjBkNjc4MzFjNTdkZGIyNTBmYzI1OTE5MzQ5ZDU2ZWRkMmJkZDhlODc2YTlhYzA4YmQ4NWMwODAzLzlkNmEyMzNmZjZmZDVjY2I5Zjc2ZmQ5OTYxOGQ3MzM2OWM1MmRkM2Q4MjIyMzc2Mzg0ZDBlNjAxOTExMDg5ZTg%7EcmVzcG9uc2UtY29udGVudC1kaXNwb3NpdGlvbj0qIn1dfQ__&Signature=Tx0xat-c1a0DbQHIZSML8kkMd1hpIa-oeiIy1AWqLJYYyeMWicTsWmKMbPvE9iZn7kA704nhvvQVjDev9TEqNw9UFpJ90YsnoqFmTSRm6SXMWDRJKRJFyBSAQ7n%7EZ5FbBt-f2Xw0p9L9m2H7MDiTlhIIDwk6eCw2GlLx45sZDDfa1DF8iHc4M569z6keRNAzm3iayimg0r3hxuw%7E01twH-kAtMVv%7EZgJUsU0j9Wy7yQ4%7Egqc4otJfyje8xAhjW-JZMns%7ETtdyUzfz6JInzY2WtaTr390t8HbT%7Em4BvyxCda3AdsiJ4HEmdSBpvdzW2W27CpZ198CT8%7EBGOYPkVzoDQ__&Key-Pair-Id=K3RPWS32NSSJCE: HTTPSConnectionPool(host='cdn-lfs.hf.co', port=443): Read timed out.\n",
      "Trying to resume download...\n"
     ]
    },
    {
     "data": {
      "application/vnd.jupyter.widget-view+json": {
       "model_id": "78295170e04a47c5ba16738413dd363c",
       "version_major": 2,
       "version_minor": 0
      },
      "text/plain": [
       "diffusion_pytorch_model.safetensors:  69%|######8   | 231M/335M [00:00<?, ?B/s]"
      ]
     },
     "metadata": {},
     "output_type": "display_data"
    },
    {
     "data": {
      "application/vnd.jupyter.widget-view+json": {
       "model_id": "317cbed7610946a5af75d2aceb08b4ce",
       "version_major": 2,
       "version_minor": 0
      },
      "text/plain": [
       "model.safetensors:  28%|##8       | 346M/1.22G [00:00<?, ?B/s]"
      ]
     },
     "metadata": {},
     "output_type": "display_data"
    },
    {
     "data": {
      "application/vnd.jupyter.widget-view+json": {
       "model_id": "a7bfde42a34b4eb3bcf910a60cbb68c5",
       "version_major": 2,
       "version_minor": 0
      },
      "text/plain": [
       "diffusion_pytorch_model.safetensors:   6%|6         | 220M/3.44G [00:00<?, ?B/s]"
      ]
     },
     "metadata": {},
     "output_type": "display_data"
    },
    {
     "data": {
      "application/vnd.jupyter.widget-view+json": {
       "model_id": "70993cb8a95645639cc2deac14cb9280",
       "version_major": 2,
       "version_minor": 0
      },
      "text/plain": [
       "model.safetensors:  62%|######1   | 304M/492M [00:00<?, ?B/s]"
      ]
     },
     "metadata": {},
     "output_type": "display_data"
    },
    {
     "data": {
      "application/vnd.jupyter.widget-view+json": {
       "model_id": "de7d4dd9278f4f71b33a7ad13ce91778",
       "version_major": 2,
       "version_minor": 0
      },
      "text/plain": [
       "Loading pipeline components...:   0%|          | 0/7 [00:00<?, ?it/s]"
      ]
     },
     "metadata": {},
     "output_type": "display_data"
    }
   ],
   "source": [
    "pipeline = StableDiffusionPipeline.from_pretrained(\"CompVis/stable-diffusion-v1-4\")"
   ]
  },
  {
   "cell_type": "code",
   "execution_count": 13,
   "metadata": {},
   "outputs": [
    {
     "name": "stderr",
     "output_type": "stream",
     "text": [
      "Cannot initialize model with low cpu memory usage because `accelerate` was not found in the environment. Defaulting to `low_cpu_mem_usage=False`. It is strongly recommended to install `accelerate` for faster and less memory-intense model loading. You can do so with: \n",
      "```\n",
      "pip install accelerate\n",
      "```\n",
      ".\n"
     ]
    }
   ],
   "source": [
    "controlnet = ControlNetModel.from_pretrained(\"lllyasviel/sd-controlnet-depth\").to(\"mps\")\n"
   ]
  },
  {
   "cell_type": "code",
   "execution_count": 14,
   "metadata": {},
   "outputs": [],
   "source": [
    "prompt = \"A beautiful mountain landscape with clear skies\"\n"
   ]
  }
 ],
 "metadata": {
  "kernelspec": {
   "display_name": "base",
   "language": "python",
   "name": "python3"
  },
  "language_info": {
   "codemirror_mode": {
    "name": "ipython",
    "version": 3
   },
   "file_extension": ".py",
   "mimetype": "text/x-python",
   "name": "python",
   "nbconvert_exporter": "python",
   "pygments_lexer": "ipython3",
   "version": "3.11.7"
  }
 },
 "nbformat": 4,
 "nbformat_minor": 2
}
